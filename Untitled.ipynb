{
 "cells": [
  {
   "cell_type": "code",
   "execution_count": 7,
   "id": "407649fa-73b3-4ab8-ba11-216a4a66cdf4",
   "metadata": {},
   "outputs": [
    {
     "name": "stderr",
     "output_type": "stream",
     "text": [
      "Cloning into '/rsrch1/ip/msalehjahromi'...\n",
      "Updating files:  32% (53/162)\n",
      "Updating files:  33% (54/162)\n",
      "Updating files:  34% (56/162)\n",
      "Updating files:  35% (57/162)\n",
      "Updating files:  36% (59/162)\n",
      "Updating files:  37% (60/162)\n",
      "Updating files:  38% (62/162)\n",
      "Updating files:  39% (64/162)\n",
      "Updating files:  40% (65/162)\n",
      "Updating files:  41% (67/162)\n",
      "Updating files:  42% (69/162)\n",
      "Updating files:  43% (70/162)\n",
      "Updating files:  44% (72/162)\n",
      "Updating files:  45% (73/162)\n",
      "Updating files:  46% (75/162)\n",
      "Updating files:  47% (77/162)\n",
      "Updating files:  48% (78/162)\n",
      "Updating files:  49% (80/162)\n",
      "Updating files:  50% (81/162)\n",
      "Updating files:  51% (83/162)\n",
      "Updating files:  52% (85/162)\n",
      "Updating files:  53% (86/162)\n",
      "Updating files:  54% (88/162)\n",
      "Updating files:  55% (90/162)\n",
      "Updating files:  56% (91/162)\n",
      "Updating files:  57% (93/162)\n",
      "Updating files:  58% (94/162)\n",
      "Updating files:  59% (96/162)\n",
      "Updating files:  59% (97/162)\n",
      "Updating files:  60% (98/162)\n",
      "Updating files:  61% (99/162)\n",
      "Updating files:  62% (101/162)\n",
      "Updating files:  63% (103/162)\n",
      "Updating files:  64% (104/162)\n",
      "Updating files:  65% (106/162)\n",
      "Updating files:  66% (107/162)\n",
      "Updating files:  67% (109/162)\n",
      "Updating files:  68% (111/162)\n",
      "Updating files:  69% (112/162)\n",
      "Updating files:  70% (114/162)\n",
      "Updating files:  71% (116/162)\n",
      "Updating files:  72% (117/162)\n",
      "Updating files:  73% (119/162)\n",
      "Updating files:  74% (120/162)\n",
      "Updating files:  75% (122/162)\n",
      "Updating files:  76% (124/162)\n",
      "Updating files:  77% (125/162)\n",
      "Updating files:  78% (127/162)\n",
      "Updating files:  79% (128/162)\n",
      "Updating files:  80% (130/162)\n",
      "Updating files:  81% (132/162)\n",
      "Updating files:  82% (133/162)\n",
      "Updating files:  83% (135/162)\n",
      "Updating files:  84% (137/162)\n",
      "Updating files:  85% (138/162)\n",
      "Updating files:  86% (140/162)\n",
      "Updating files:  87% (141/162)\n",
      "Updating files:  87% (142/162)\n",
      "Updating files:  88% (143/162)\n",
      "Updating files:  89% (145/162)\n",
      "Updating files:  90% (146/162)\n",
      "Updating files:  91% (148/162)\n",
      "Updating files:  92% (150/162)\n",
      "Updating files:  93% (151/162)\n",
      "Updating files:  94% (153/162)\n",
      "Updating files:  95% (154/162)\n",
      "Updating files:  96% (156/162)\n",
      "Updating files:  97% (158/162)\n",
      "Updating files:  98% (159/162)\n",
      "Updating files:  99% (161/162)\n",
      "Updating files: 100% (162/162)\n",
      "Updating files: 100% (162/162), done.\n"
     ]
    }
   ],
   "source": [
    "!git clone https://github.com/facebookresearch/dinov2.git \"/rsrch1/ip/msalehjahromi/\"\n"
   ]
  },
  {
   "cell_type": "code",
   "execution_count": 2,
   "id": "defc6019-39b6-47e3-8b6d-aeabcc8d814f",
   "metadata": {},
   "outputs": [
    {
     "data": {
      "text/plain": [
       "[' ibot_patch_loss_understanding.ipynb',\n",
       " '.github',\n",
       " '.gitignore',\n",
       " '.ipynb_checkpoints',\n",
       " 'CODE_OF_CONDUCT.md',\n",
       " 'conda-extras.yaml',\n",
       " 'conda.yaml',\n",
       " 'CONTRIBUTING.md',\n",
       " 'dinov2',\n",
       " 'Dino_clstoken_loss_understanding.ipynb',\n",
       " 'hubconf.py',\n",
       " 'koleo_loss_understanding.ipynb',\n",
       " 'LICENSE',\n",
       " 'MODEL_CARD.md',\n",
       " 'notebooks',\n",
       " 'pyproject.toml',\n",
       " 'README.md',\n",
       " 'requirements-dev.txt',\n",
       " 'requirements-extras.txt',\n",
       " 'requirements.txt',\n",
       " 'scripts',\n",
       " 'setup.cfg',\n",
       " 'setup.py',\n",
       " 'Untitled.ipynb']"
      ]
     },
     "execution_count": 2,
     "metadata": {},
     "output_type": "execute_result"
    }
   ],
   "source": [
    "import os\n",
    "os.listdir(os.getcwd())"
   ]
  },
  {
   "cell_type": "code",
   "execution_count": 5,
   "id": "d19dfb58-6656-4835-aa8c-9eec1727c356",
   "metadata": {},
   "outputs": [
    {
     "ename": "FileNotFoundError",
     "evalue": "[WinError 3] The system cannot find the path specified: '/rsrch1/ip/msalehjahromi/codes'",
     "output_type": "error",
     "traceback": [
      "\u001b[1;31m---------------------------------------------------------------------------\u001b[0m",
      "\u001b[1;31mFileNotFoundError\u001b[0m                         Traceback (most recent call last)",
      "\u001b[1;32mC:\\Users\\MSALEH~1\\AppData\\Local\\Temp/ipykernel_44596/1564967408.py\u001b[0m in \u001b[0;36m<module>\u001b[1;34m\u001b[0m\n\u001b[1;32m----> 1\u001b[1;33m \u001b[0mos\u001b[0m\u001b[1;33m.\u001b[0m\u001b[0mlistdir\u001b[0m\u001b[1;33m(\u001b[0m\u001b[1;34m\"/rsrch1/ip/msalehjahromi/codes\"\u001b[0m\u001b[1;33m)\u001b[0m\u001b[1;33m\u001b[0m\u001b[1;33m\u001b[0m\u001b[0m\n\u001b[0m",
      "\u001b[1;31mFileNotFoundError\u001b[0m: [WinError 3] The system cannot find the path specified: '/rsrch1/ip/msalehjahromi/codes'"
     ]
    }
   ],
   "source": [
    "os.listdir(\"/rsrch1/ip/msalehjahromi/codes\")"
   ]
  },
  {
   "cell_type": "code",
   "execution_count": null,
   "id": "2134e51c-59e9-4d17-b109-03ec6a62ceb9",
   "metadata": {},
   "outputs": [],
   "source": []
  }
 ],
 "metadata": {
  "kernelspec": {
   "display_name": "Python 3 (ipykernel)",
   "language": "python",
   "name": "python3"
  },
  "language_info": {
   "codemirror_mode": {
    "name": "ipython",
    "version": 3
   },
   "file_extension": ".py",
   "mimetype": "text/x-python",
   "name": "python",
   "nbconvert_exporter": "python",
   "pygments_lexer": "ipython3",
   "version": "3.8.11"
  }
 },
 "nbformat": 4,
 "nbformat_minor": 5
}
