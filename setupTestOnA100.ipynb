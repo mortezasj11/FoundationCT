{
 "cells": [
  {
   "cell_type": "code",
   "execution_count": 9,
   "id": "78e6557f-fee2-4df1-8bce-1bc8154cadf1",
   "metadata": {},
   "outputs": [
    {
     "name": "stdout",
     "output_type": "stream",
     "text": [
      "/bin/bash: line 1: cwd: command not found\n"
     ]
    },
    {
     "data": {
      "text/plain": [
       "'/workspace/codes/dinov2-main'"
      ]
     },
     "execution_count": 9,
     "metadata": {},
     "output_type": "execute_result"
    }
   ],
   "source": [
    "import os\n",
    "!cwd\n",
    "# !pip install mmcv-full\n",
    "# !pip uninstall -y mmcv-full\n",
    "os.getcwd()\n",
    "!pip install --extra-index-url https://pypi.nvidia.com cuml-cu11"
   ]
  },
  {
   "cell_type": "code",
   "execution_count": 12,
   "id": "74f33177-f462-457e-a476-ff773d58ce4b",
   "metadata": {},
   "outputs": [],
   "source": [
    "#!pip install ."
   ]
  },
  {
   "cell_type": "code",
   "execution_count": 15,
   "id": "245545f3-87ca-46b6-b6df-0570855a3177",
   "metadata": {},
   "outputs": [
    {
     "name": "stdout",
     "output_type": "stream",
     "text": [
      "12.1\n"
     ]
    }
   ],
   "source": [
    "#!pip install torch\n",
    "import torch\n",
    "print(torch.version.cuda)\n"
   ]
  },
  {
   "cell_type": "code",
   "execution_count": null,
   "id": "574e4b80-6ae2-4075-90f9-9b35cd88736d",
   "metadata": {},
   "outputs": [],
   "source": []
  }
 ],
 "metadata": {
  "kernelspec": {
   "display_name": "Python 3 (ipykernel)",
   "language": "python",
   "name": "python3"
  },
  "language_info": {
   "codemirror_mode": {
    "name": "ipython",
    "version": 3
   },
   "file_extension": ".py",
   "mimetype": "text/x-python",
   "name": "python",
   "nbconvert_exporter": "python",
   "pygments_lexer": "ipython3",
   "version": "3.10.12"
  }
 },
 "nbformat": 4,
 "nbformat_minor": 5
}
